{
 "cells": [
  {
   "cell_type": "code",
   "execution_count": 3,
   "metadata": {},
   "outputs": [],
   "source": [
    "from sympy import *\n",
    "from sympy.functions.special.beta_functions import beta, betainc\n",
    "from sympy import lambdify\n",
    "from scipy.integrate import quad\n",
    "from sympy import lambdify\n",
    "from scipy.integrate import quad\n",
    "import matplotlib.pyplot as plt\n",
    "import numpy as np\n",
    "import ipywidgets as widgets\n",
    "\n",
    "#from sympy.stats import Beta, density, E, variance"
   ]
  },
  {
   "cell_type": "code",
   "execution_count": 4,
   "metadata": {},
   "outputs": [
    {
     "data": {
      "text/latex": [
       "$\\displaystyle \\begin{cases} 0 & \\text{for}\\: p \\left(r + 1\\right)^{t} \\geq 1 \\\\\\int\\limits_{p \\left(r + 1\\right)^{t}}^{1} f{\\left(\\theta \\right)}\\, d\\theta & \\text{otherwise} \\end{cases} - \\begin{cases} 0 & \\text{for}\\: p \\left(r + 1\\right)^{t} - \\left(r + 1\\right)^{t} \\leq -1 \\\\\\int\\limits_{0}^{p \\left(r + 1\\right)^{t} - \\left(r + 1\\right)^{t} + 1} f{\\left(\\theta \\right)}\\, d\\theta & \\text{otherwise} \\end{cases} = 0$"
      ],
      "text/plain": [
       "Eq(Piecewise((0, p*(r + 1)**t >= 1), (Integral(f(theta), (theta, p*(r + 1)**t, 1)), True)) - Piecewise((0, p*(r + 1)**t - (r + 1)**t <= -1), (Integral(f(theta), (theta, 0, p*(r + 1)**t - (r + 1)**t + 1)), True)), 0)"
      ]
     },
     "execution_count": 4,
     "metadata": {},
     "output_type": "execute_result"
    }
   ],
   "source": [
    "#define distribution of individual types\n",
    "mu = symbols('mu', real = True, positive = True) #mean probability of beliefs (real probability)\n",
    "p = symbols('p', real = True, positive = True) #price of yes bet\n",
    "r = symbols('r', real = True, positive = True) #interest rate\n",
    "t = symbols('t', real = True, positive = True) #time until resolution\n",
    "#type is drawn from the distribution\n",
    "theta = symbols('theta', real = True, positive =True) #type of individual, drawn from type_dist\n",
    "a = symbols('a', real = True, positive = True) #parameters of beta distribution\n",
    "b = symbols('b', real = True, positive = True) #parameters of beta distribution\n",
    "\n",
    "#don't forget to bind between 0 and 1 when integrating!!!!\n",
    "'''beta = Piecewise(\n",
    "    #(0, theta < 0),\n",
    "    #(0, theta > 1),\n",
    "    (theta**(a-1)*(1-theta)**(b-1)/(gamma(a)*gamma(b)/gamma(a+b)), True)\n",
    ")'''\n",
    "#beta = theta**(a-1)*(1-theta)**(b-1)/(gamma(a)*gamma(b)/gamma(a+b))\n",
    "#be = beta(a, b)\n",
    "#beta = Beta('beta', a, b)\n",
    "\n",
    "#calculate a and b based on mu and standard deviation\n",
    "s = symbols('s') #standard deviation arbitrarly chosen\n",
    "n = mu*(1-mu)/s**2\n",
    "a = mu*n\n",
    "b = (1-mu)*n\n",
    "\n",
    "#population density based on theta\n",
    "f = Function('f')(theta)\n",
    "\n",
    "\n",
    "return_yes = ((1)*theta+(0)*(1-theta))/p #expected return of yes bet\n",
    "return_no = ((1)*(1-theta)-(0)*(theta))/(1-p) #expected return of no bet\n",
    "outside_return = (1+r)**t #return of outside option\n",
    "'''\n",
    "#optimal bet given type\n",
    "def bet(theta,p):\n",
    "    return_yes = ((theta-p)/(1+r)**t)\n",
    "    return_no = ((1-theta)-(1-p))/(1+r)**t\n",
    "    return Piecewise(\n",
    "        (1, return_yes>0),\n",
    "        (0, (return_yes<=0)&(return_no<=0)),\n",
    "        (-1, return_no>0))\n",
    "'''\n",
    "\n",
    "#As a kelly criterion bet\n",
    "bet = Piecewise(\n",
    "    (theta - (1-theta)/(return_yes), theta - (1-theta)/(return_yes)>=0),\n",
    "    (-((1-theta)-(theta)/(return_no)), (1-theta)-(theta)/(return_no)>0),\n",
    "    (0, True))\n",
    "\n",
    "#kelly criterion with discounted future return\n",
    "bet_discounted = Piecewise(\n",
    "    (theta - (1-theta)/(return_yes/outside_return), theta - (1-theta)/(return_yes/outside_return)>=0),\n",
    "    (-((1-theta)-(theta)/(return_no/outside_return)), (1-theta)-(theta)/(return_no/outside_return)>0),\n",
    "    (0, True))\n",
    "\n",
    "def beta_pdf (x):\n",
    "    return (x**(a-1)*(1-x)**(b-1))/(factorial(a-1)*factorial(b-1)/factorial(a+b-1))\n",
    "\n",
    "#market clearing condition\n",
    "#as a piecewise integration\n",
    "market_clear = Integral(f*bet, (theta,0,1))\n",
    "\n",
    "market_clear_discounted = Integral(f*bet_discounted, (theta,0,1))\n",
    "\n",
    "\n",
    "#number of yes bets given price\n",
    "#lowest type yes bet\n",
    "yes_p_min = solve(Eq(return_yes, outside_return), theta)[0]\n",
    "#highest type no bet\n",
    "no_p_max = solve(Eq(return_no, outside_return), theta)[0]\n",
    "\n",
    "\n",
    "\n",
    "\n",
    "#number of yes bets equals number of no bets\n",
    "number_yes = Piecewise(\n",
    "    (0,yes_p_min >= 1),\n",
    "    (integrate(f, (theta, yes_p_min, 1)), True)\n",
    ")\n",
    "#number_yes = betainc(a, b, yes_p_min, 1)\n",
    "number_no = Piecewise(\n",
    "    (0, no_p_max<=0),\n",
    "    (integrate(f, (theta, 0, no_p_max)), True)\n",
    ")\n",
    "#number_no = betainc(a,b, 0, no_p_max)\n",
    "market2 = number_yes - number_no\n",
    "market_clear2 = Eq(market2, 0)\n",
    "\n",
    "market_clear2"
   ]
  },
  {
   "cell_type": "code",
   "execution_count": 5,
   "metadata": {},
   "outputs": [
    {
     "data": {
      "text/plain": [
       "(theta/p, (r + 1)**t)"
      ]
     },
     "execution_count": 5,
     "metadata": {},
     "output_type": "execute_result"
    }
   ],
   "source": [
    "return_yes, outside_return"
   ]
  },
  {
   "cell_type": "markdown",
   "metadata": {},
   "source": [
    "# Model Explanation\n",
    "This project mathematically models the assumptions around prediction markets. It tests 2 models for predition markets and how equilibrium prices differ from the \"true\" probability of events occuring when agents face outside options. Both models asusme that market participants have a belief $\\theta \\in (0,1)$ about the outcome of the market, and that the distribution of these beliefs amongst the population follows some probability distribution $f(\\theta)$. (This distribution is equally interpretable as distribution of funds, the principle remains the same). I model $f(\\theta)$ as beta function with shape parameters $(\\alpha, \\beta)$ defined to center the function around a \"true probability\" $\\mu$ and a standard deviation $s$.\n",
    "\n",
    "These market participants have identical outside option, which with certainty can multiply their money by rate $(1+r)^t$ where $r$ is the interest rate and $t$ is the number of periods until the bet is expected to be resolved.\n",
    "\n",
    "This is expected to discourage market participants that have more accurate knowledge of future events when prices are accurate to the true probability. This expectation is consistent with the unusual distribution seen in polymarket order books, in which there are few orders around the price, and then a large increase in unfilled orders at a specific cutoff point on both sides of the price, after which unfilled orders rise in both directions."
   ]
  },
  {
   "cell_type": "markdown",
   "metadata": {},
   "source": [
    "## Model 1: True risk neutrality\n",
    "\n",
    "Under the true risk neutraility, market participants are trying to maximise their expected return as a function of price $p$ and will bet if and only if the expected percentage return exceeds the  outside option $(1+r)^t$. A market participant of type $\\theta$ expects a return of $\\frac{\\theta}{p}$ for a yes bet, and $\\frac{(1 - \\theta)}{(1 - p)}$ for a no bet, where $p \\in (0,1)$ is the price of a yes bet. Thus participants bet yes if $\\frac{\\theta}{p}>(1+r)^t$ and no if $\\frac{(1 - \\theta)}{(1 - p)}>(1+r)^t$ and does not place a bet otherwise.\n",
    "\n",
    "Thus the maximum type $\\theta$ that will take a no bet given price $p$ is:"
   ]
  },
  {
   "cell_type": "code",
   "execution_count": 5,
   "metadata": {},
   "outputs": [
    {
     "data": {
      "text/latex": [
       "$\\displaystyle p \\left(r + 1\\right)^{t} - \\left(r + 1\\right)^{t} + 1$"
      ],
      "text/plain": [
       "p*(r + 1)**t - (r + 1)**t + 1"
      ]
     },
     "execution_count": 5,
     "metadata": {},
     "output_type": "execute_result"
    }
   ],
   "source": [
    "no_p_max"
   ]
  },
  {
   "cell_type": "markdown",
   "metadata": {},
   "source": [
    "And the minimum type $\\theta$ that will take a yes bet is:"
   ]
  },
  {
   "cell_type": "code",
   "execution_count": 6,
   "metadata": {},
   "outputs": [
    {
     "data": {
      "text/latex": [
       "$\\displaystyle p \\left(r + 1\\right)^{t}$"
      ],
      "text/plain": [
       "p*(r + 1)**t"
      ]
     },
     "execution_count": 6,
     "metadata": {},
     "output_type": "execute_result"
    }
   ],
   "source": [
    "yes_p_min"
   ]
  },
  {
   "cell_type": "markdown",
   "metadata": {},
   "source": [
    "The number of yes and no bets are thus defined as:"
   ]
  },
  {
   "cell_type": "code",
   "execution_count": 8,
   "metadata": {},
   "outputs": [
    {
     "data": {
      "text/plain": [
       "'$\\\\displaystyle \\\\begin{cases} 0 & \\\\text{for}\\\\: p \\\\left(r + 1\\\\right)^{t} \\\\geq 1 \\\\\\\\\\\\int\\\\limits_{p \\\\left(r + 1\\\\right)^{t}}^{1} f{\\\\left(\\\\theta \\\\right)}\\\\, d\\\\theta & \\\\text{otherwise} \\\\end{cases}$'"
      ]
     },
     "execution_count": 8,
     "metadata": {},
     "output_type": "execute_result"
    }
   ],
   "source": [
    "number_yes"
   ]
  },
  {
   "cell_type": "code",
   "execution_count": 10,
   "metadata": {},
   "outputs": [
    {
     "data": {
      "text/latex": [
       "$\\displaystyle \\begin{cases} 0 & \\text{for}\\: p \\left(r + 1\\right)^{t} - \\left(r + 1\\right)^{t} \\leq -1 \\\\\\int\\limits_{0}^{p \\left(r + 1\\right)^{t} - \\left(r + 1\\right)^{t} + 1} f{\\left(\\theta \\right)}\\, d\\theta & \\text{otherwise} \\end{cases}$"
      ],
      "text/plain": [
       "Piecewise((0, p*(r + 1)**t - (r + 1)**t <= -1), (Integral(f(theta), (theta, 0, p*(r + 1)**t - (r + 1)**t + 1)), True))"
      ]
     },
     "execution_count": 10,
     "metadata": {},
     "output_type": "execute_result"
    }
   ],
   "source": [
    "number_no"
   ]
  },
  {
   "cell_type": "markdown",
   "metadata": {},
   "source": [
    "And the market clearing price is listed below, both in generic form, and for the specific distribution:"
   ]
  },
  {
   "cell_type": "code",
   "execution_count": 9,
   "metadata": {},
   "outputs": [
    {
     "data": {
      "text/latex": [
       "$\\displaystyle \\begin{cases} 0 & \\text{for}\\: p \\left(r + 1\\right)^{t} \\geq 1 \\\\\\int\\limits_{p \\left(r + 1\\right)^{t}}^{1} f{\\left(\\theta \\right)}\\, d\\theta & \\text{otherwise} \\end{cases} - \\begin{cases} 0 & \\text{for}\\: p \\left(r + 1\\right)^{t} - \\left(r + 1\\right)^{t} \\leq -1 \\\\\\int\\limits_{0}^{p \\left(r + 1\\right)^{t} - \\left(r + 1\\right)^{t} + 1} f{\\left(\\theta \\right)}\\, d\\theta & \\text{otherwise} \\end{cases} = 0$"
      ],
      "text/plain": [
       "Eq(Piecewise((0, p*(r + 1)**t >= 1), (Integral(f(theta), (theta, p*(r + 1)**t, 1)), True)) - Piecewise((0, p*(r + 1)**t - (r + 1)**t <= -1), (Integral(f(theta), (theta, 0, p*(r + 1)**t - (r + 1)**t + 1)), True)), 0)"
      ]
     },
     "execution_count": 9,
     "metadata": {},
     "output_type": "execute_result"
    }
   ],
   "source": [
    "market_clear2"
   ]
  },
  {
   "cell_type": "code",
   "execution_count": 11,
   "metadata": {},
   "outputs": [
    {
     "data": {
      "text/plain": [
       "'$\\\\displaystyle \\\\begin{cases} 0 & \\\\text{for}\\\\: p \\\\left(r + 1\\\\right)^{t} \\\\geq 1 \\\\\\\\\\\\int\\\\limits_{p \\\\left(r + 1\\\\right)^{t}}^{1} \\\\frac{\\\\theta^{\\\\frac{\\\\mu^{2} \\\\left(1 - \\\\mu\\\\right)}{s^{2}} - 1} \\\\left(1 - \\\\theta\\\\right)^{\\\\frac{\\\\mu \\\\left(1 - \\\\mu\\\\right)^{2}}{s^{2}} - 1} \\\\left(\\\\frac{\\\\mu^{2} \\\\left(1 - \\\\mu\\\\right)}{s^{2}} + \\\\frac{\\\\mu \\\\left(1 - \\\\mu\\\\right)^{2}}{s^{2}} - 1\\\\right)!}{\\\\left(\\\\frac{\\\\mu \\\\left(1 - \\\\mu\\\\right)^{2}}{s^{2}} - 1\\\\right)! \\\\left(\\\\frac{\\\\mu^{2} \\\\left(1 - \\\\mu\\\\right)}{s^{2}} - 1\\\\right)!}\\\\, d\\\\theta & \\\\text{otherwise} \\\\end{cases} - \\\\begin{cases} 0 & \\\\text{for}\\\\: p \\\\left(r + 1\\\\right)^{t} - \\\\left(r + 1\\\\right)^{t} \\\\leq -1 \\\\\\\\\\\\int\\\\limits_{0}^{p \\\\left(r + 1\\\\right)^{t} - \\\\left(r + 1\\\\right)^{t} + 1} \\\\frac{\\\\theta^{\\\\frac{\\\\mu^{2} \\\\left(1 - \\\\mu\\\\right)}{s^{2}} - 1} \\\\left(1 - \\\\theta\\\\right)^{\\\\frac{\\\\mu \\\\left(1 - \\\\mu\\\\right)^{2}}{s^{2}} - 1} \\\\left(\\\\frac{\\\\mu^{2} \\\\left(1 - \\\\mu\\\\right)}{s^{2}} + \\\\frac{\\\\mu \\\\left(1 - \\\\mu\\\\right)^{2}}{s^{2}} - 1\\\\right)!}{\\\\left(\\\\frac{\\\\mu \\\\left(1 - \\\\mu\\\\right)^{2}}{s^{2}} - 1\\\\right)! \\\\left(\\\\frac{\\\\mu^{2} \\\\left(1 - \\\\mu\\\\right)}{s^{2}} - 1\\\\right)!}\\\\, d\\\\theta & \\\\text{otherwise} \\\\end{cases} = 0$'"
      ]
     },
     "execution_count": 11,
     "metadata": {},
     "output_type": "execute_result"
    }
   ],
   "source": [
    "market_clear2.subs(f, beta_pdf(theta))._repr_latex_"
   ]
  },
  {
   "cell_type": "markdown",
   "metadata": {},
   "source": [
    "We are interested in how biased true probability $\\mu$ differs from the prices given under this model. These pricing conditions are not solvable analytically, thus we computationally derive the curve for market clearing conditions below. Below is an interactive graph that allows you to test how changes in $r$ $t$ and $s$ change the bias across possible $\\mu$. Notice how as $(1+r)^t$ becomes larger, the bias tends towards having an equilibrium price closer to 0.5 than the true probability. Additionally, increasing s tends to make the line straighter.\n",
    "\n",
    "(TODO: Have a single non interactive graph showing curves as $(1+r)^t$ increases as different colored lines)"
   ]
  },
  {
   "cell_type": "code",
   "execution_count": 11,
   "metadata": {},
   "outputs": [
    {
     "data": {
      "application/vnd.jupyter.widget-view+json": {
       "model_id": "b83d3d96489843f3a85939ff88decfba",
       "version_major": 2,
       "version_minor": 0
      },
      "text/plain": [
       "interactive(children=(FloatSlider(value=0.5, continuous_update=False, description='mean mu:', max=1.0, step=0.…"
      ]
     },
     "metadata": {},
     "output_type": "display_data"
    },
    {
     "data": {
      "text/plain": [
       "<function __main__.graph(a, b, c, d, e)>"
      ]
     },
     "execution_count": 11,
     "metadata": {},
     "output_type": "execute_result"
    }
   ],
   "source": [
    "r_widg = widgets.FloatSlider(\n",
    "    value=0.03,\n",
    "    min=0,\n",
    "    max=1.0,\n",
    "    step=0.01,\n",
    "    description='r:',\n",
    "    disabled=False,\n",
    "    continuous_update=False,\n",
    "    orientation='horizontal',\n",
    "    readout=True,\n",
    "    readout_format='.2f',\n",
    ")\n",
    "t_widg = widgets.IntSlider(\n",
    "    value=0,\n",
    "    min=0,\n",
    "    max=10,\n",
    "    step=1,\n",
    "    description='Time periods t:',\n",
    "    disabled=False,\n",
    "    continuous_update=False,\n",
    "    orientation='horizontal',\n",
    "    readout=True,\n",
    "    readout_format='d'\n",
    ")\n",
    "mu_widg = widgets.FloatSlider(\n",
    "    value=0.5,\n",
    "    min=0,\n",
    "    max=1.0,\n",
    "    step=0.01,\n",
    "    description='mean mu:',\n",
    "    disabled=False,\n",
    "    continuous_update=False,\n",
    "    orientation='horizontal',\n",
    "    readout=True,\n",
    "    readout_format='.2f',\n",
    ")\n",
    "p_widg = widgets.FloatSlider(\n",
    "    value=0.5,\n",
    "    min=0,\n",
    "    max=1.0,\n",
    "    step=0.01,\n",
    "    description='p:',\n",
    "    disabled=False,\n",
    "    continuous_update=False,\n",
    "    orientation='horizontal',\n",
    "    readout=True,\n",
    "    readout_format='.2f',\n",
    ")\n",
    "s_widg = widgets.FloatSlider(\n",
    "    value=0.145,\n",
    "    min=0,\n",
    "    max=0.5,\n",
    "    step=0.001,\n",
    "    description='s:',\n",
    "    disabled=False,\n",
    "    continuous_update=False,\n",
    "    orientation='horizontal',\n",
    "    readout=True,\n",
    "    readout_format='.2f',\n",
    ")\n",
    "def graph(a,b,c,d,e):\n",
    "    cond = {mu:a, r:b, t:c, p:d, s:e}\n",
    "    p1 = plot(beta_pdf(theta).subs(cond), (theta, 0, 1), show=False, n = 100, adaptive = False)\n",
    "    p1.extend(plot(bet.subs(cond), (theta, 0, 1), show=False))\n",
    "    p1.extend(plot(bet_discounted.subs(cond), (theta, 0, 1), show=False))\n",
    "    p1.extend(plot(return_yes.subs(cond), (theta, 0, 1), show=False))\n",
    "    p1.extend(plot(return_no.subs(cond), (theta, 0, 1), show=False))\n",
    "    p1.show()\n",
    "\n",
    "widgets.interact(graph, a = mu_widg, b = r_widg, c = t_widg, d = p_widg, e = s_widg)\n"
   ]
  },
  {
   "cell_type": "code",
   "execution_count": 12,
   "metadata": {},
   "outputs": [
    {
     "data": {
      "application/vnd.jupyter.widget-view+json": {
       "model_id": "b2be25655769416fa3e1d944edc8c771",
       "version_major": 2,
       "version_minor": 0
      },
      "text/plain": [
       "interactive(children=(FloatSlider(value=0.3, continuous_update=False, description='r:', max=1.0, step=0.01), I…"
      ]
     },
     "metadata": {},
     "output_type": "display_data"
    },
    {
     "data": {
      "text/plain": [
       "<function __main__.make_plot(r_w, t_w, s_w)>"
      ]
     },
     "metadata": {},
     "output_type": "display_data"
    }
   ],
   "source": [
    "r_widg2 = widgets.FloatSlider(\n",
    "    value=0.3,\n",
    "    min=0,\n",
    "    max=1.0,\n",
    "    step=0.01,\n",
    "    description='r:',\n",
    "    disabled=False,\n",
    "    continuous_update=False,\n",
    "    orientation='horizontal',\n",
    "    readout=True,\n",
    "    readout_format='.2f',\n",
    ")\n",
    "t_widg2 = widgets.IntSlider(\n",
    "    value=0,\n",
    "    min=0,\n",
    "    max=10,\n",
    "    step=1,\n",
    "    description='Time periods t:',\n",
    "    disabled=False,\n",
    "    continuous_update=False,\n",
    "    orientation='horizontal',\n",
    "    readout=True,\n",
    "    readout_format='d'\n",
    ")\n",
    "mu_widg2 = widgets.FloatSlider(\n",
    "    value=0.5,\n",
    "    min=0,\n",
    "    max=1.0,\n",
    "    step=0.01,\n",
    "    description='mean mu:',\n",
    "    disabled=False,\n",
    "    continuous_update=False,\n",
    "    orientation='horizontal',\n",
    "    readout=True,\n",
    "    readout_format='.2f',\n",
    ")\n",
    "s_widg2 = widgets.FloatSlider(\n",
    "    value=0.145,\n",
    "    min=0,\n",
    "    max=0.5,\n",
    "    step=0.001,\n",
    "    description='s:',\n",
    "    disabled=False,\n",
    "    continuous_update=False,\n",
    "    orientation='horizontal',\n",
    "    readout=True,\n",
    "    readout_format='.2f',\n",
    ")\n",
    "#function g allows us to find the price that clears the market for a given mean in our distribution\n",
    "def g(x,cond):\n",
    "    try:\n",
    "        ret = nsolve((number_yes-number_no).subs(cond).subs(mu,x),(0,1), solver='bisect')\n",
    "    except ValueError:\n",
    "        ret = None\n",
    "    return ret\n",
    "\n",
    "\n",
    "\n",
    "xvals = np.linspace(0.0001,0.9999,10) #10 points\n",
    "\n",
    "def make_plot(r_w,t_w,s_w):\n",
    "    cond = {f:beta_pdf(theta), r:r_w, t:t_w, s:s_w}\n",
    "    yvals = [] #empty list\n",
    "    for i in range(len(xvals)):\n",
    "        yvals.append(g(xvals[i],cond)) #evaluate f for each point in xvals\n",
    "    #vals = list(map(g, xvals)) #evaluate f for each point in xvals \n",
    "    plt.plot(xvals, yvals)\n",
    "    plt.plot(xvals, xvals, color = 'redinto', linestyle = '--')\n",
    "    plt.xlabel('True probability (mu)')\n",
    "    plt.ylabel('Equilibrium price of yes bet')\n",
    "\n",
    "\n",
    "display(widgets.interact(make_plot,r_w = r_widg2, t_w = t_widg2, s_w = s_widg2))\n"
   ]
  },
  {
   "cell_type": "code",
   "execution_count": 63,
   "metadata": {},
   "outputs": [
    {
     "data": {
      "image/png": "[encoded data removed]",
      "text/plain": [
       "<Figure size 640x480 with 1 Axes>"
      ]
     },
     "metadata": {},
     "output_type": "display_data"
    }
   ],
   "source": [
    "\n",
    "def make_plot5(alt_ret,s_w):\n",
    "    cond = {f:beta_pdf(theta), (1+r)**t:alt_ret, s:s_w}\n",
    "    yvals = [] #empty list\n",
    "    for i in range(len(xvals)):\n",
    "        yvals.append(g(xvals[i],cond)) #evaluate f for each point in xvals\n",
    "    #vals = list(map(g, xvals)) #evaluate f for each point in xvals \n",
    "    plt.plot(xvals, yvals, label = \"(1+r)^t = \" + str(alt_ret))\n",
    "\n",
    "outside = [1,1.05,1.15,1.3,1.5,1.7,1.9,2]\n",
    "plt.rcParams[\"axes.prop_cycle\"] = plt.cycler(\"color\", plt.cm.viridis(np.linspace(0,1,len(outside))))\n",
    "\n",
    "for i in outside:\n",
    "    make_plot5(i,0.145)\n",
    "\n",
    "\n",
    "plt.legend(loc='best')\n",
    "plt.plot(xvals, xvals, color = 'red', linestyle = '--')\n",
    "plt.xlabel('True probability (mu)')\n",
    "plt.ylabel('Equilibrium price of yes bet')\n",
    "plt.title('Equilibrium price of yes bet for risk neutral model')\n",
    "plt.show()"
   ]
  },
  {
   "cell_type": "markdown",
   "metadata": {},
   "source": [
    "** note that above if you have made $(1+r)^t$ so large that no one will take any bets the line flattens out. This obviously is not the true curve, just a mathematical consequence of no one betting. Additionally only 10 points are plotted to increase the speedy responsiveness. **"
   ]
  },
  {
   "cell_type": "markdown",
   "metadata": {},
   "source": [
    "## Model 2: Risk aversion\n",
    "\n",
    "In model 2 we add an additional assumption, which is that market participants are risk averse. While in the first scenario we assumed that every participant, regardless of type staked their entire endowment into the market (or that each person places a single bet), we now assume that participants are risk averse, and less confident investors stake a smaller share of their endowment. To fulfil this assumption we assume that participants follow kelly's formula, with discounted future returns. "
   ]
  },
  {
   "cell_type": "code",
   "execution_count": 18,
   "metadata": {},
   "outputs": [
    {
     "data": {
      "text/plain": [
       "'$\\\\displaystyle - \\\\frac{p \\\\left(1 - \\\\theta\\\\right) \\\\left(r + 1\\\\right)^{t}}{\\\\theta} + \\\\theta$'"
      ]
     },
     "execution_count": 18,
     "metadata": {},
     "output_type": "execute_result"
    }
   ],
   "source": [
    "(theta - (1-theta)/(return_yes/outside_return))._repr_latex_() #kelly criterion with discounted future return"
   ]
  },
  {
   "cell_type": "markdown",
   "metadata": {},
   "source": [
    "Kelly criterion maximizes log discounted returns for a user of type $\\theta$ given a price $p$. Notice that while a higher fraction of money in the market is centered around the true probability, these market participants are more cautious, as they expect a lower average return. The blue line is the beta distribution of types, the orange line represents optimal bets (negative values are 'no' bets), and the green line is the distribution given that participants take into account discounted future value."
   ]
  },
  {
   "cell_type": "code",
   "execution_count": 14,
   "metadata": {},
   "outputs": [
    {
     "data": {
      "application/vnd.jupyter.widget-view+json": {
       "model_id": "3a2ce9eac5f849d2809210144db4b10f",
       "version_major": 2,
       "version_minor": 0
      },
      "text/plain": [
       "interactive(children=(FloatSlider(value=0.5, continuous_update=False, description='mean mu:', max=1.0, step=0.…"
      ]
     },
     "metadata": {},
     "output_type": "display_data"
    },
    {
     "data": {
      "text/plain": [
       "<function __main__.graph(a, b, c, d, e)>"
      ]
     },
     "execution_count": 14,
     "metadata": {},
     "output_type": "execute_result"
    }
   ],
   "source": [
    "r_widg = widgets.FloatSlider(\n",
    "    value=0.03,\n",
    "    min=0,\n",
    "    max=1.0,\n",
    "    step=0.01,\n",
    "    description='r:',\n",
    "    disabled=False,\n",
    "    continuous_update=False,\n",
    "    orientation='horizontal',\n",
    "    readout=True,\n",
    "    readout_format='.2f',\n",
    ")\n",
    "t_widg = widgets.IntSlider(\n",
    "    value=0,\n",
    "    min=0,\n",
    "    max=10,\n",
    "    step=1,\n",
    "    description='Time periods t:',\n",
    "    disabled=False,\n",
    "    continuous_update=False,\n",
    "    orientation='horizontal',\n",
    "    readout=True,\n",
    "    readout_format='d'\n",
    ")\n",
    "mu_widg = widgets.FloatSlider(\n",
    "    value=0.5,\n",
    "    min=0,\n",
    "    max=1.0,\n",
    "    step=0.01,\n",
    "    description='mean mu:',\n",
    "    disabled=False,\n",
    "    continuous_update=False,\n",
    "    orientation='horizontal',\n",
    "    readout=True,\n",
    "    readout_format='.2f',\n",
    ")\n",
    "p_widg = widgets.FloatSlider(\n",
    "    value=0.5,\n",
    "    min=0,\n",
    "    max=1.0,\n",
    "    step=0.01,\n",
    "    description='p:',\n",
    "    disabled=False,\n",
    "    continuous_update=False,\n",
    "    orientation='horizontal',\n",
    "    readout=True,\n",
    "    readout_format='.2f',\n",
    ")\n",
    "s_widg = widgets.FloatSlider(\n",
    "    value=0.145,\n",
    "    min=0,\n",
    "    max=0.5,\n",
    "    step=0.001,\n",
    "    description='s:',\n",
    "    disabled=False,\n",
    "    continuous_update=False,\n",
    "    orientation='horizontal',\n",
    "    readout=True,\n",
    "    readout_format='.2f',\n",
    ")\n",
    "def graph(a,b,c,d,e):\n",
    "    cond = {mu:a, r:b, t:c, p:d, s:e}\n",
    "    p1 = plot(beta_pdf(theta).subs(cond), (theta, 0, 1), show=False, n = 100, adaptive = False)\n",
    "    p1.extend(plot(bet.subs(cond), (theta, 0, 1), show=False))\n",
    "    p1.extend(plot(bet_discounted.subs(cond), (theta, 0, 1), show=False))\n",
    "    #p1.extend(plot(return_yes.subs(cond), (theta, 0, 1), show=False))\n",
    "    #p1.extend(plot(return_no.subs(cond), (theta, 0, 1), show=False))\n",
    "    p1.show()\n",
    "\n",
    "widgets.interact(graph, a = mu_widg, b = r_widg, c = t_widg, d = p_widg, e = s_widg)\n"
   ]
  },
  {
   "cell_type": "markdown",
   "metadata": {},
   "source": [
    "The market clearing conditions are thus represented below, both generically, and given a specified beta distribution."
   ]
  },
  {
   "cell_type": "code",
   "execution_count": 19,
   "metadata": {},
   "outputs": [
    {
     "data": {
      "text/plain": [
       "'$\\\\displaystyle \\\\int\\\\limits_{0}^{1} \\\\begin{cases} \\\\left(- \\\\frac{p \\\\left(1 - \\\\theta\\\\right)}{\\\\theta} + \\\\theta\\\\right) f{\\\\left(\\\\theta \\\\right)} & \\\\text{for}\\\\: \\\\frac{p \\\\left(1 - \\\\theta\\\\right)}{\\\\theta} - \\\\theta \\\\leq 0 \\\\\\\\\\\\left(\\\\frac{\\\\theta \\\\left(1 - p\\\\right)}{1 - \\\\theta} + \\\\theta - 1\\\\right) f{\\\\left(\\\\theta \\\\right)} & \\\\text{for}\\\\: \\\\frac{\\\\theta \\\\left(1 - p\\\\right)}{1 - \\\\theta} + \\\\theta < 1 \\\\\\\\0 & \\\\text{otherwise} \\\\end{cases}\\\\, d\\\\theta$'"
      ]
     },
     "execution_count": 19,
     "metadata": {},
     "output_type": "execute_result"
    }
   ],
   "source": [
    "market_clear"
   ]
  },
  {
   "cell_type": "code",
   "execution_count": 20,
   "metadata": {},
   "outputs": [
    {
     "data": {
      "text/plain": [
       "'$\\\\displaystyle \\\\int\\\\limits_{0}^{1} \\\\begin{cases} \\\\frac{\\\\theta^{\\\\frac{\\\\mu^{2} \\\\left(1 - \\\\mu\\\\right)}{s^{2}} - 1} \\\\left(1 - \\\\theta\\\\right)^{\\\\frac{\\\\mu \\\\left(1 - \\\\mu\\\\right)^{2}}{s^{2}} - 1} \\\\left(- \\\\frac{p \\\\left(1 - \\\\theta\\\\right)}{\\\\theta} + \\\\theta\\\\right) \\\\left(\\\\frac{\\\\mu^{2} \\\\left(1 - \\\\mu\\\\right)}{s^{2}} + \\\\frac{\\\\mu \\\\left(1 - \\\\mu\\\\right)^{2}}{s^{2}} - 1\\\\right)!}{\\\\left(\\\\frac{\\\\mu \\\\left(1 - \\\\mu\\\\right)^{2}}{s^{2}} - 1\\\\right)! \\\\left(\\\\frac{\\\\mu^{2} \\\\left(1 - \\\\mu\\\\right)}{s^{2}} - 1\\\\right)!} & \\\\text{for}\\\\: \\\\frac{p \\\\left(1 - \\\\theta\\\\right)}{\\\\theta} - \\\\theta \\\\leq 0 \\\\\\\\\\\\frac{\\\\theta^{\\\\frac{\\\\mu^{2} \\\\left(1 - \\\\mu\\\\right)}{s^{2}} - 1} \\\\left(1 - \\\\theta\\\\right)^{\\\\frac{\\\\mu \\\\left(1 - \\\\mu\\\\right)^{2}}{s^{2}} - 1} \\\\left(\\\\frac{\\\\theta \\\\left(1 - p\\\\right)}{1 - \\\\theta} + \\\\theta - 1\\\\right) \\\\left(\\\\frac{\\\\mu^{2} \\\\left(1 - \\\\mu\\\\right)}{s^{2}} + \\\\frac{\\\\mu \\\\left(1 - \\\\mu\\\\right)^{2}}{s^{2}} - 1\\\\right)!}{\\\\left(\\\\frac{\\\\mu \\\\left(1 - \\\\mu\\\\right)^{2}}{s^{2}} - 1\\\\right)! \\\\left(\\\\frac{\\\\mu^{2} \\\\left(1 - \\\\mu\\\\right)}{s^{2}} - 1\\\\right)!} & \\\\text{for}\\\\: \\\\frac{\\\\theta \\\\left(1 - p\\\\right)}{1 - \\\\theta} + \\\\theta < 1 \\\\\\\\0 & \\\\text{otherwise} \\\\end{cases}\\\\, d\\\\theta$'"
      ]
     },
     "execution_count": 20,
     "metadata": {},
     "output_type": "execute_result"
    }
   ],
   "source": [
    "market_clear.subs(f, beta_pdf(theta))._repr_latex_()"
   ]
  },
  {
   "cell_type": "markdown",
   "metadata": {},
   "source": [
    "Similar as for model 1, the equilibrium price curve given $\\mu$ is listed below. Notice that the equilibrium prices exaggerate the true probability of the distribution, given the caution excercised by better informed market actors. "
   ]
  },
  {
   "cell_type": "code",
   "execution_count": 17,
   "metadata": {},
   "outputs": [
    {
     "data": {
      "application/vnd.jupyter.widget-view+json": {
       "model_id": "a72aec5bd07649f8a687418efbca5ef8",
       "version_major": 2,
       "version_minor": 0
      },
      "text/plain": [
       "interactive(children=(FloatSlider(value=0.3, continuous_update=False, description='r:', max=1.0, step=0.01), I…"
      ]
     },
     "metadata": {},
     "output_type": "display_data"
    },
    {
     "data": {
      "text/plain": [
       "<function __main__.make_plot3(r_w, t_w, s_w)>"
      ]
     },
     "metadata": {},
     "output_type": "display_data"
    }
   ],
   "source": [
    "r_widg3 = widgets.FloatSlider(\n",
    "    value=0.3,\n",
    "    min=0,\n",
    "    max=1.0,\n",
    "    step=0.01,\n",
    "    description='r:',\n",
    "    disabled=False,\n",
    "    continuous_update=False,\n",
    "    orientation='horizontal',\n",
    "    readout=True,\n",
    "    readout_format='.2f',\n",
    ")\n",
    "t_widg3 = widgets.IntSlider(\n",
    "    value=0,\n",
    "    min=0,\n",
    "    max=10,\n",
    "    step=1,\n",
    "    description='Time periods t:',\n",
    "    disabled=False,\n",
    "    continuous_update=False,\n",
    "    orientation='horizontal',\n",
    "    readout=True,\n",
    "    readout_format='d'\n",
    ")\n",
    "mu_widg3 = widgets.FloatSlider(\n",
    "    value=0.5,\n",
    "    min=0,\n",
    "    max=1.0,\n",
    "    step=0.01,\n",
    "    description='mean mu:',\n",
    "    disabled=False,\n",
    "    continuous_update=False,\n",
    "    orientation='horizontal',\n",
    "    readout=True,\n",
    "    readout_format='.2f',\n",
    ")\n",
    "s_widg3 = widgets.FloatSlider(\n",
    "    value=0.145,\n",
    "    min=0,\n",
    "    max=0.5,\n",
    "    step=0.001,\n",
    "    description='s:',\n",
    "    disabled=False,\n",
    "    continuous_update=False,\n",
    "    orientation='horizontal',\n",
    "    readout=True,\n",
    "    readout_format='.2f',\n",
    ")\n",
    "#function g allows us to find the price that clears the market for a given mean in our distribution\n",
    "def g3(x,cond):\n",
    "    try:\n",
    "        ret = nsolve((market_clear_discounted).subs(cond).subs(mu,x),(0,1), solver='bisect')\n",
    "    except ValueError:\n",
    "        ret = None\n",
    "    return ret\n",
    "\n",
    "\n",
    "\n",
    "xvals = np.linspace(0.0001,0.9999, 20) #10 points\n",
    "\n",
    "def make_plot3(r_w,t_w,s_w):\n",
    "    cond = {f:beta_pdf(theta), r:r_w, t:t_w, s:s_w}\n",
    "    yvals = [] #empty list\n",
    "    for i in range(len(xvals)):\n",
    "        yvals.append(g3(xvals[i],cond)) #evaluate f for each point in xvals\n",
    "    #vals = list(map(g, xvals)) #evaluate f for each point in xvals \n",
    "    plt.plot(xvals, yvals)\n",
    "    plt.plot(xvals, xvals, color = 'red', linestyle = '--')\n",
    "    plt.xlabel('True probability (mu)')\n",
    "    plt.ylabel('Equilibrium price of yes bet')\n",
    "\n",
    "\n",
    "display(widgets.interact(make_plot3,r_w = r_widg3, t_w = t_widg3, s_w = s_widg3))\n"
   ]
  },
  {
   "cell_type": "code",
   "execution_count": 60,
   "metadata": {},
   "outputs": [
    {
     "data": {
      "image/png": "[encoded data removed]",
      "text/plain": [
       "<Figure size 640x480 with 1 Axes>"
      ]
     },
     "metadata": {},
     "output_type": "display_data"
    }
   ],
   "source": [
    "xvals = np.linspace(0.0001,0.9999, 30) #10 points\n",
    "def make_plot4(alt_ret,s_w):\n",
    "    cond = {f:beta_pdf(theta), (1+r)**t:alt_ret, s:s_w}\n",
    "    yvals = [] #empty list\n",
    "    for i in range(len(xvals)):\n",
    "        yvals.append(g3(xvals[i],cond)) #evaluate f for each point in xvals\n",
    "    #vals = list(map(g, xvals)) #evaluate f for each point in xvals \n",
    "    plt.plot(xvals, yvals, label = \"(1+r)^t = \" + str(alt_ret))\n",
    "\n",
    "outside = [1,1.05,1.15,1.3,1.5,1.7,1.9,2]\n",
    "\n",
    "plt.rcParams[\"axes.prop_cycle\"] = plt.cycler(\"color\", plt.cm.viridis(np.linspace(0,1,len(outside))))\n",
    "plt.plot(xvals, xvals, color = 'red', linestyle = '--')\n",
    "plt.xlabel('True probability (mu)')\n",
    "plt.ylabel('Equilibrium price of yes bet')\n",
    "\n",
    "for i in outside:\n",
    "    make_plot4(i,0.145)\n",
    "\n",
    "plt.legend(loc='best')\n",
    "plt.title('Equilibrium price of yes bet for risk averse model')\n",
    "plt.show()"
   ]
  },
  {
   "cell_type": "code",
   "execution_count": 50,
   "metadata": {},
   "outputs": [
    {
     "data": {
      "text/latex": [
       "$\\displaystyle 0.18826477851048$"
      ],
      "text/plain": [
       "0.188264778510480"
      ]
     },
     "execution_count": 50,
     "metadata": {},
     "output_type": "execute_result"
    }
   ],
   "source": [
    "cond = {f:beta_pdf(theta), (1+r)**t:1, s : 0.145}\n",
    "nsolve((market_clear_discounted).subs(cond).subs(mu,0.4),(0,1), solver='bisect')\n",
    "#(market_clear_discounted).subs(cond).subs(mu,0.5)"
   ]
  },
  {
   "cell_type": "markdown",
   "metadata": {},
   "source": [
    "# Conclusion\n",
    "This paper provides a microfounded model to asses the bias in prices versus the true probability of an event occuring in prediction markets.\n",
    "\n",
    "This research is important. In the 2024 election many people from political pundits, to equity researchers, to news orginizations, have referenced the odds given on various prediction markets to better understand the true probability of election events. It is vital to understand how outside options and the interest rate bias these markets.\n",
    "\n",
    "I believe Model 2 is likely the better charachterization of how rational market actors participate in real life. It is more consistent with the unusual distribution seen in polymarket order books, in which there are few orders around the price, and then a large increase in unfilled orders at a specific cutoff point on both sides of the price, after which unfilled orders rise in both directions.\n",
    "\n",
    "Some important caveats exist however. There is much research on the psychology of gamblers that suggest that a reasonably large share of market actors may be less than risk averse, or even risk loving. Future research should consider markets that contain heterogenous risk preferences accross belief types, and how this affects equilibrium prices.\n",
    "into\n",
    "Additionally, this research provides insight into how prediction markets are affected by the currencies used. There are existing prediction markets that are denominated in crypto-currencies, internal point systems, and in real dollars. The denomination of currencies may affect the interest rate of the outside option. For internal point systems, there are no outside options other than participating in prediction markets, so $(1+r)^t$ is exactly 1. Crypto-currencies may see extreme fluctuation in what $(1+r)^t$ looks like depending on the currency, trend in its particular price, and the slate of reliable investment instruments that exist in this space (I would suspect $(1+r)^t$ to be low, potentially even negative). The outside options in real dollars are relatively well known (t-bills).  This can help explain why odds vary wildly across prediction markets denominated in different currencies, and why arbitrage does not occur."
   ]
  }
 ],
 "metadata": {
  "kernelspec": {
   "display_name": ".venv",
   "language": "python",
   "name": "python3"
  },
  "language_info": {
   "codemirror_mode": {
    "name": "ipython",
    "version": 3
   },
   "file_extension": ".py",
   "mimetype": "text/x-python",
   "name": "python",
   "nbconvert_exporter": "python",
   "pygments_lexer": "ipython3",
   "version": "3.12.6"
  }
 },
 "nbformat": 4,
 "nbformat_minor": 2
}
